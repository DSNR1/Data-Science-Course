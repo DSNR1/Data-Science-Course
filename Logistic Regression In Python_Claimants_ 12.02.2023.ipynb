{
 "cells": [
  {
   "cell_type": "code",
   "execution_count": 1,
   "id": "b3e04576",
   "metadata": {},
   "outputs": [],
   "source": [
    "import pandas as pd\n",
    "from sklearn.linear_model import LogisticRegression"
   ]
  },
  {
   "cell_type": "code",
   "execution_count": 2,
   "id": "ad581571",
   "metadata": {},
   "outputs": [],
   "source": [
    "# Load the data set\n",
    "claimants = pd.read_csv(\"C:/Users/DSN RAJU/claimants.csv\")"
   ]
  },
  {
   "cell_type": "code",
   "execution_count": 3,
   "id": "3b4a6617",
   "metadata": {},
   "outputs": [
    {
     "data": {
      "text/html": [
       "<div>\n",
       "<style scoped>\n",
       "    .dataframe tbody tr th:only-of-type {\n",
       "        vertical-align: middle;\n",
       "    }\n",
       "\n",
       "    .dataframe tbody tr th {\n",
       "        vertical-align: top;\n",
       "    }\n",
       "\n",
       "    .dataframe thead th {\n",
       "        text-align: right;\n",
       "    }\n",
       "</style>\n",
       "<table border=\"1\" class=\"dataframe\">\n",
       "  <thead>\n",
       "    <tr style=\"text-align: right;\">\n",
       "      <th></th>\n",
       "      <th>CASENUM</th>\n",
       "      <th>ATTORNEY</th>\n",
       "      <th>CLMSEX</th>\n",
       "      <th>CLMINSUR</th>\n",
       "      <th>SEATBELT</th>\n",
       "      <th>CLMAGE</th>\n",
       "      <th>LOSS</th>\n",
       "    </tr>\n",
       "  </thead>\n",
       "  <tbody>\n",
       "    <tr>\n",
       "      <th>0</th>\n",
       "      <td>5</td>\n",
       "      <td>0</td>\n",
       "      <td>0.0</td>\n",
       "      <td>1.0</td>\n",
       "      <td>0.0</td>\n",
       "      <td>50.0</td>\n",
       "      <td>34.940</td>\n",
       "    </tr>\n",
       "    <tr>\n",
       "      <th>1</th>\n",
       "      <td>3</td>\n",
       "      <td>1</td>\n",
       "      <td>1.0</td>\n",
       "      <td>0.0</td>\n",
       "      <td>0.0</td>\n",
       "      <td>18.0</td>\n",
       "      <td>0.891</td>\n",
       "    </tr>\n",
       "    <tr>\n",
       "      <th>2</th>\n",
       "      <td>66</td>\n",
       "      <td>1</td>\n",
       "      <td>0.0</td>\n",
       "      <td>1.0</td>\n",
       "      <td>0.0</td>\n",
       "      <td>5.0</td>\n",
       "      <td>0.330</td>\n",
       "    </tr>\n",
       "    <tr>\n",
       "      <th>3</th>\n",
       "      <td>70</td>\n",
       "      <td>0</td>\n",
       "      <td>0.0</td>\n",
       "      <td>1.0</td>\n",
       "      <td>1.0</td>\n",
       "      <td>31.0</td>\n",
       "      <td>0.037</td>\n",
       "    </tr>\n",
       "    <tr>\n",
       "      <th>4</th>\n",
       "      <td>96</td>\n",
       "      <td>1</td>\n",
       "      <td>0.0</td>\n",
       "      <td>1.0</td>\n",
       "      <td>0.0</td>\n",
       "      <td>30.0</td>\n",
       "      <td>0.038</td>\n",
       "    </tr>\n",
       "  </tbody>\n",
       "</table>\n",
       "</div>"
      ],
      "text/plain": [
       "   CASENUM  ATTORNEY  CLMSEX  CLMINSUR  SEATBELT  CLMAGE    LOSS\n",
       "0        5         0     0.0       1.0       0.0    50.0  34.940\n",
       "1        3         1     1.0       0.0       0.0    18.0   0.891\n",
       "2       66         1     0.0       1.0       0.0     5.0   0.330\n",
       "3       70         0     0.0       1.0       1.0    31.0   0.037\n",
       "4       96         1     0.0       1.0       0.0    30.0   0.038"
      ]
     },
     "execution_count": 3,
     "metadata": {},
     "output_type": "execute_result"
    }
   ],
   "source": [
    "claimants.head()"
   ]
  },
  {
   "cell_type": "code",
   "execution_count": 4,
   "id": "ace9ffad",
   "metadata": {},
   "outputs": [],
   "source": [
    "# dropping the case number columns as it is not required\n",
    "claimants.drop([\"CASENUM\"],inplace=True,axis=1)"
   ]
  },
  {
   "cell_type": "code",
   "execution_count": 5,
   "id": "fa01fec0",
   "metadata": {},
   "outputs": [
    {
     "data": {
      "text/plain": [
       "(1340, 6)"
      ]
     },
     "execution_count": 5,
     "metadata": {},
     "output_type": "execute_result"
    }
   ],
   "source": [
    "# Shape of the data set\n",
    "claimants.shape"
   ]
  },
  {
   "cell_type": "code",
   "execution_count": 6,
   "id": "11d2b598",
   "metadata": {},
   "outputs": [
    {
     "data": {
      "text/plain": [
       "(1096, 6)"
      ]
     },
     "execution_count": 6,
     "metadata": {},
     "output_type": "execute_result"
    }
   ],
   "source": [
    "# Removing NA values in data set\n",
    "claimants = claimants.dropna()\n",
    "claimants.shape"
   ]
  },
  {
   "cell_type": "code",
   "execution_count": 23,
   "id": "5c642b15",
   "metadata": {},
   "outputs": [],
   "source": [
    "# Dividing our data in to input and output variables\n",
    "x = claimants.iloc[:,1:]\n",
    "y = claimants.iloc[:,0]"
   ]
  },
  {
   "cell_type": "code",
   "execution_count": 24,
   "id": "deeb3ab8",
   "metadata": {},
   "outputs": [
    {
     "data": {
      "text/plain": [
       "LogisticRegression()"
      ]
     },
     "execution_count": 24,
     "metadata": {},
     "output_type": "execute_result"
    }
   ],
   "source": [
    "# Logistic regression and fit the model\n",
    "classifier = LogisticRegression()\n",
    "classifier.fit(x,y)"
   ]
  },
  {
   "cell_type": "code",
   "execution_count": 25,
   "id": "44f95548",
   "metadata": {},
   "outputs": [],
   "source": [
    "#Predict for x dataset\n",
    "y_pred = classifier.predict(x)"
   ]
  },
  {
   "cell_type": "code",
   "execution_count": 26,
   "id": "2e1ca2a9",
   "metadata": {},
   "outputs": [],
   "source": [
    "y_pred_df=pd.DataFrame({'actual':y, 'predicted_prob':classifier.predict(x)})"
   ]
  },
  {
   "cell_type": "code",
   "execution_count": 27,
   "id": "6eac6c61",
   "metadata": {
    "scrolled": true
   },
   "outputs": [
    {
     "data": {
      "text/html": [
       "<div>\n",
       "<style scoped>\n",
       "    .dataframe tbody tr th:only-of-type {\n",
       "        vertical-align: middle;\n",
       "    }\n",
       "\n",
       "    .dataframe tbody tr th {\n",
       "        vertical-align: top;\n",
       "    }\n",
       "\n",
       "    .dataframe thead th {\n",
       "        text-align: right;\n",
       "    }\n",
       "</style>\n",
       "<table border=\"1\" class=\"dataframe\">\n",
       "  <thead>\n",
       "    <tr style=\"text-align: right;\">\n",
       "      <th></th>\n",
       "      <th>actual</th>\n",
       "      <th>predicted_prob</th>\n",
       "    </tr>\n",
       "  </thead>\n",
       "  <tbody>\n",
       "    <tr>\n",
       "      <th>0</th>\n",
       "      <td>0</td>\n",
       "      <td>0</td>\n",
       "    </tr>\n",
       "    <tr>\n",
       "      <th>1</th>\n",
       "      <td>1</td>\n",
       "      <td>1</td>\n",
       "    </tr>\n",
       "    <tr>\n",
       "      <th>2</th>\n",
       "      <td>1</td>\n",
       "      <td>1</td>\n",
       "    </tr>\n",
       "    <tr>\n",
       "      <th>3</th>\n",
       "      <td>0</td>\n",
       "      <td>0</td>\n",
       "    </tr>\n",
       "    <tr>\n",
       "      <th>4</th>\n",
       "      <td>1</td>\n",
       "      <td>1</td>\n",
       "    </tr>\n",
       "    <tr>\n",
       "      <th>...</th>\n",
       "      <td>...</td>\n",
       "      <td>...</td>\n",
       "    </tr>\n",
       "    <tr>\n",
       "      <th>1334</th>\n",
       "      <td>1</td>\n",
       "      <td>1</td>\n",
       "    </tr>\n",
       "    <tr>\n",
       "      <th>1336</th>\n",
       "      <td>0</td>\n",
       "      <td>0</td>\n",
       "    </tr>\n",
       "    <tr>\n",
       "      <th>1337</th>\n",
       "      <td>1</td>\n",
       "      <td>1</td>\n",
       "    </tr>\n",
       "    <tr>\n",
       "      <th>1338</th>\n",
       "      <td>0</td>\n",
       "      <td>0</td>\n",
       "    </tr>\n",
       "    <tr>\n",
       "      <th>1339</th>\n",
       "      <td>1</td>\n",
       "      <td>1</td>\n",
       "    </tr>\n",
       "  </tbody>\n",
       "</table>\n",
       "<p>1096 rows × 2 columns</p>\n",
       "</div>"
      ],
      "text/plain": [
       "      actual  predicted_prob\n",
       "0          0               0\n",
       "1          1               1\n",
       "2          1               1\n",
       "3          0               0\n",
       "4          1               1\n",
       "...      ...             ...\n",
       "1334       1               1\n",
       "1336       0               0\n",
       "1337       1               1\n",
       "1338       0               0\n",
       "1339       1               1\n",
       "\n",
       "[1096 rows x 2 columns]"
      ]
     },
     "execution_count": 27,
     "metadata": {},
     "output_type": "execute_result"
    }
   ],
   "source": [
    "y_pred_df"
   ]
  },
  {
   "cell_type": "code",
   "execution_count": 28,
   "id": "ac1d9f72",
   "metadata": {},
   "outputs": [
    {
     "name": "stdout",
     "output_type": "stream",
     "text": [
      "[[381 197]\n",
      " [123 395]]\n"
     ]
    }
   ],
   "source": [
    "#Confusion Matrix for the model accuracy\n",
    "from sklearn.metrics import confusion_matrix\n",
    "confusion_matrix = confusion_matrix(Y,y_pred)\n",
    "print (confusion_matrix)"
   ]
  },
  {
   "cell_type": "code",
   "execution_count": 29,
   "id": "d0241a11",
   "metadata": {},
   "outputs": [
    {
     "data": {
      "text/plain": [
       "70.8029197080292"
      ]
     },
     "execution_count": 29,
     "metadata": {},
     "output_type": "execute_result"
    }
   ],
   "source": [
    "((381+395)/(381+197+123+395))*100"
   ]
  },
  {
   "cell_type": "code",
   "execution_count": 30,
   "id": "777902c8",
   "metadata": {},
   "outputs": [
    {
     "name": "stdout",
     "output_type": "stream",
     "text": [
      "              precision    recall  f1-score   support\n",
      "\n",
      "           0       0.76      0.66      0.70       578\n",
      "           1       0.67      0.76      0.71       518\n",
      "\n",
      "    accuracy                           0.71      1096\n",
      "   macro avg       0.71      0.71      0.71      1096\n",
      "weighted avg       0.71      0.71      0.71      1096\n",
      "\n"
     ]
    }
   ],
   "source": [
    "#Classification report\n",
    "from sklearn.metrics import classification_report\n",
    "print(classification_report(Y,y_pred))"
   ]
  },
  {
   "cell_type": "code",
   "execution_count": 31,
   "id": "f17f7f4d",
   "metadata": {},
   "outputs": [],
   "source": [
    "# ROC Curve"
   ]
  },
  {
   "cell_type": "code",
   "execution_count": 32,
   "id": "52642f66",
   "metadata": {},
   "outputs": [
    {
     "data": {
      "text/plain": [
       "Text(0, 0.5, 'True Positive Rate')"
      ]
     },
     "execution_count": 32,
     "metadata": {},
     "output_type": "execute_result"
    },
    {
     "data": {
      "image/png": "[encoded data removed]",
      "text/plain": [
       "<Figure size 640x480 with 1 Axes>"
      ]
     },
     "metadata": {},
     "output_type": "display_data"
    }
   ],
   "source": [
    "from sklearn.metrics import roc_curve\n",
    "from sklearn.metrics import roc_auc_score\n",
    "fpr,tpr,thresholds = roc_curve(Y, classifier.predict_proba (x) [:,1])\n",
    "auc = roc_auc_score(Y,y_pred)\n",
    "\n",
    "import matplotlib.pyplot as plt\n",
    "plt.plot(fpr,tpr,color='red', label='logit model(area = % 0.2f)' %auc)\n",
    "plt.plot([0, 1], [0, 1], 'k--')\n",
    "plt.xlabel('False Positive Rate or [1-True Negative Rate]')\n",
    "plt.ylabel('True Positive Rate')"
   ]
  },
  {
   "cell_type": "code",
   "execution_count": 33,
   "id": "284a0fd9",
   "metadata": {},
   "outputs": [
    {
     "data": {
      "text/plain": [
       "0.7108589063606365"
      ]
     },
     "execution_count": 33,
     "metadata": {},
     "output_type": "execute_result"
    }
   ],
   "source": [
    "auc"
   ]
  },
  {
   "cell_type": "code",
   "execution_count": null,
   "id": "ac8f50ff",
   "metadata": {},
   "outputs": [],
   "source": []
  }
 ],
 "metadata": {
  "kernelspec": {
   "display_name": "Python 3 (ipykernel)",
   "language": "python",
   "name": "python3"
  },
  "language_info": {
   "codemirror_mode": {
    "name": "ipython",
    "version": 3
   },
   "file_extension": ".py",
   "mimetype": "text/x-python",
   "name": "python",
   "nbconvert_exporter": "python",
   "pygments_lexer": "ipython3",
   "version": "3.9.13"
  }
 },
 "nbformat": 4,
 "nbformat_minor": 5
}

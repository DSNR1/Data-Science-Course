{
  "cells": [
    {
      "metadata": {
        "collapsed": true,
        "id": "K4WqYRDKTCpa"
      },
      "cell_type": "markdown",
      "source": [
        "Hypothesis is nothing but a proposed explanation for phenomenon.\n",
        "\n",
        "when ever we face problem, form a hypothesis test and verify again test and verify. then think about reject or accept\n",
        "\n"
      ]
    },
    {
      "metadata": {
        "trusted": true,
        "id": "PUyBbioOTCpe"
      },
      "cell_type": "markdown",
      "source": [
        "Example:- \n",
        "    \n",
        "    Principal is not very happy with performance of students,\n",
        "    background  music  while teaching will imporve the performance of students and concentration."
      ]
    },
    {
      "metadata": {
        "id": "pDW-k7bATCpf"
      },
      "cell_type": "markdown",
      "source": [
        "Hypothesis testing divided into two terms.\n",
        "\n",
        "1. Null hypothesis: can be that the sample statistic to be equal to the population statistic or\n",
        "    that the interval doesnt bring the difference to the sample.\n",
        "    \n",
        "\n",
        "2.Alternative hypothesis: basically negates the null hypothesis or\n",
        "    says that the intervention brings a significant difference to the sample, \n",
        "    or the sample is significantly different from the population.\n",
        "\n"
      ]
    },
    {
      "metadata": {
        "trusted": true,
        "id": "IvZbgt0rTCph"
      },
      "cell_type": "markdown",
      "source": [
        "in our example :\n",
        "   H0: average marks of students after music is introduced is the same before music is introduced \n",
        "    H1: Average marks of student after music is introduced is differ to before music introduce.\n",
        "    "
      ]
    },
    {
      "metadata": {
        "trusted": true,
        "id": "9jK5gFqaTCph"
      },
      "cell_type": "markdown",
      "source": [
        "# Hypothesis testing"
      ]
    },
    {
      "metadata": {
        "trusted": true,
        "id": "GYOuzbCpTCpi"
      },
      "cell_type": "markdown",
      "source": [
        "Class 8th students have a mean score of 40 marks out of 100.\n",
        "the principal decided that some music while teaching would improve the performance of the class.\n",
        "the class scored an average of 45 marks out of 100 after tacking these classes.\n",
        "can we be sure wheather the increase in marks is a result of the music or is it just by random chance?\n",
        "\n",
        "\n",
        "Check a sample statistic against a population statistic.\n",
        "\n",
        "Check a sample against another sample to check differences\n",
        "\n",
        "check the sample with the same sample post intervention\n"
      ]
    },
    {
      "metadata": {
        "trusted": true,
        "id": "_4OClKmHTCpk"
      },
      "cell_type": "markdown",
      "source": [
        "Null hypothesis = Ho: there is no significance difference after introduction of music    H0: mu = 40\n",
        "\n",
        "Alternative hypothesis =H1 = ha: there is a significance difference after introduction of music  H1:mu <> 40"
      ]
    },
    {
      "metadata": {
        "trusted": true,
        "id": "oi0EusAnTCpl"
      },
      "cell_type": "markdown",
      "source": [
        "z= [x-mu/(std/sqrt(n))]\n",
        "\n",
        "z=[45-40/(26/sqrt(100))]\n",
        "\n",
        "z=5/2.6=1.92\n",
        "\n",
        "z confidence interval value for 1.92 is 0.9726\n",
        "\n",
        "Significance value  = 1-0.9726=0.0214"
      ]
    },
    {
      "metadata": {
        "id": "7ss-ekIXTCpn"
      },
      "cell_type": "markdown",
      "source": [
        "Important points:-\n",
        "\n",
        "Hypothesis testing is done on different levels of confidence, and makes use of z-score to calculate the probalbility.\n",
        "\n",
        "we can not accept the null hypothesis, only reject or fail to reject it\n",
        "\n",
        "as a practical tip, null hypothesis framed on the statement we want to disprove. \n",
        "check a sample to another sample to check for differences \n",
        "\n",
        "we might make errors while making conclusions using hypothesis testing "
      ]
    },
    {
      "metadata": {
        "trusted": true,
        "id": "vw1HloC1TCpo"
      },
      "cell_type": "markdown",
      "source": [
        "# Understanding Errors while Hypothesis Testing"
      ]
    },
    {
      "metadata": {
        "trusted": true,
        "id": "FAjEkfpWTCpp"
      },
      "cell_type": "markdown",
      "source": [
        "\n",
        "\n",
        "Type I error: Rejecting the null hypothesis when it is actually true \n",
        "it is also call as alpha error/ false positive \n",
        "    \n",
        "Type II error:Failing to reject null hypothesis when it is actually false\n",
        "it is also call as beta error"
      ]
    },
    {
      "metadata": {
        "trusted": true,
        "id": "Oh0ylltsTCpq"
      },
      "cell_type": "markdown",
      "source": [
        "# Understanding T tests"
      ]
    },
    {
      "metadata": {
        "id": "3QJff1kQTCpq"
      },
      "cell_type": "markdown",
      "source": [
        "use sample to estimate population std deviation\n",
        "\n",
        "\n",
        "to estimate the population std deviation we use std deviation formula : s= [sqrt(x-xbar)2]/(n-1)\n",
        "\n",
        "n-1 we use for correction of error\n",
        "\n"
      ]
    },
    {
      "metadata": {
        "trusted": true,
        "id": "C8LNdJ_xTCpr"
      },
      "cell_type": "markdown",
      "source": [
        "T test is very similar to Z scores.\n",
        "\n",
        "use sample standard deviation to estimate population standard deviation.\n",
        "\n"
      ]
    },
    {
      "metadata": {
        "id": "MOM36NWgTCps"
      },
      "cell_type": "markdown",
      "source": [
        "t value is depend on degree of freedom\n",
        "\n",
        "\n",
        "example to understand degree of freedom\n",
        "\n",
        "1+2+3+4 =10\n",
        "\n",
        "2+4+3+1=10\n",
        "\n",
        "3+4+3+0=10\n",
        "\n",
        "to sumup to 10, i can enter 3 values freely but 4th value i am force to select which meets to sum value to 10\n",
        "in this case degree of freedom n-1=3\n",
        "\n",
        "\n",
        "another example:-\n",
        "\n",
        "n=10 and mu=100\n",
        "\n",
        "in above n and mu , i can select 9 values freely but 10th value i force to select which meet mu value as 100, in this case degree of freedom n-1=9"
      ]
    },
    {
      "metadata": {
        "trusted": true,
        "id": "fHtHDS6PTCpt"
      },
      "cell_type": "markdown",
      "source": [
        "One tailed and two tailed tests\n",
        "\n",
        "https://stats.idre.ucla.edu/other/mult-pkg/faq/general/faq-what-are-the-differences-between-one-tailed-and-two-tailed-tests/"
      ]
    },
    {
      "metadata": {
        "id": "L1BssgMnTCpu"
      },
      "cell_type": "markdown",
      "source": [
        "# Conducting One sample T tests"
      ]
    },
    {
      "metadata": {
        "trusted": true,
        "id": "OAw951I3TCpu"
      },
      "cell_type": "markdown",
      "source": [
        "Just have one sample here\n",
        "\n",
        "\n",
        "steps to do t test:\n",
        "\n",
        "\n",
        "1.Define the null and alternative hypothesis \n",
        "\n",
        "\n",
        "2.Compute the T statistic\n",
        "\n",
        "3.Get the T critical value from the table.\n",
        "\n",
        "if the t statistic computed is more than the t critical value in a positive case, or if the negative t computed is less than the t critical value, we will reject the null hypothesis."
      ]
    },
    {
      "metadata": {
        "trusted": true,
        "id": "l-VKx78GTCpu"
      },
      "cell_type": "markdown",
      "source": [
        "Genarally null and alternative hypothesis \n",
        "\n",
        "\n",
        "null hypothesis:\n",
        "mu = muo\n",
        "\n",
        "alternative hypotheis:\n",
        "mu > muo\n",
        "\n",
        "mu< muo\n",
        "\n",
        "mu <> muo\n",
        "\n"
      ]
    },
    {
      "metadata": {
        "trusted": true,
        "id": "sNE5-zNaTCpv"
      },
      "cell_type": "markdown",
      "source": [
        "Problem statement :\n",
        "    \n",
        "    Evoluition has been there for millions and millions of years. the mean length of insect in earlier times was 6.07cms.\n",
        "    \n",
        "    now we wish to figure out if the lengths now are significally different from earlier times.let us say we have 500 sample    \n",
        "    mean being 6.47 and sample standarded deviation being 0.4"
      ]
    },
    {
      "metadata": {
        "id": "UFzodezjTCpv"
      },
      "cell_type": "markdown",
      "source": [
        "Ho: length of insect in two different time are the same  \n",
        "\n",
        "H0: Xbar = Mu\n",
        "    #Mu population mean  \n",
        "    # Xbar is sample mean of 500 insect.\n",
        "\n",
        "H1 or Ha: the length of insect in two different time zome are significanly different.\n",
        "\n",
        "Ha: xbar <> Mu\n",
        "    "
      ]
    },
    {
      "metadata": {
        "trusted": true,
        "id": "wKya91iQTCpw"
      },
      "cell_type": "markdown",
      "source": [
        "\n",
        "Answer:\n",
        "\n",
        "Population mean = Mu= 6.07\n",
        "Sample mean= xbar=6.47\n",
        "sample standard deviation = 0.4\n",
        "number of sample =n =500\n",
        "\n",
        "\n",
        "find the t value = t= [xbar-mu]/(s/sqrt(n))\n",
        "\n",
        "t=[6.47-6.07]/[0.4/sqrt(500)]\n",
        "\n",
        "t value is = sqrt(500) =20.36\n",
        "\n",
        "\n",
        "degree of freedom =n-1=499\n",
        "\n",
        "t critical value is 23.6 for 499 @ 95% of confidence (0.25%)\n",
        "\n",
        "t critical value is more than t value hence we are rejecting null hypothis \n",
        "\n"
      ]
    },
    {
      "metadata": {
        "id": "mj3WIwgfTCpx"
      },
      "cell_type": "markdown",
      "source": [
        "P value \n",
        "\n",
        "A small p-value (typically ≤ 0.05) indicates strong evidence against the null hypothesis, so you reject the null hypothesis. A large p-value (> 0.05) indicates weak evidence against the null hypothesis, so you fail to reject the null hypothesis."
      ]
    },
    {
      "metadata": {
        "trusted": true,
        "id": "LZZPzXKSTCp8"
      },
      "cell_type": "code",
      "source": [
        "#Importing libraries\n",
        "import pandas as pd\n",
        "import scipy.stats as stats\n",
        "from scipy.stats import ttest_1samp"
      ],
      "execution_count": null,
      "outputs": []
    },
    {
      "metadata": {
        "trusted": true,
        "id": "ehKpPZXPTCp9"
      },
      "cell_type": "code",
      "source": [
        "#Loading data\n",
        "data = pd.read_csv(\"Ttest.csv\")"
      ],
      "execution_count": null,
      "outputs": []
    },
    {
      "metadata": {
        "trusted": true,
        "colab": {
          "base_uri": "https://localhost:8080/",
          "height": 206
        },
        "id": "kgTqlpG5TCp9",
        "outputId": "b6e5a06e-5228-4469-d3b4-1208b7d2beec"
      },
      "cell_type": "code",
      "source": [
        "#Printing first 5 rows\n",
        "data.head()"
      ],
      "execution_count": null,
      "outputs": [
        {
          "output_type": "execute_result",
          "data": {
            "text/plain": [
              "   Student  Overall Marks Gender    Subject\n",
              "0    Anish             97   Male    English\n",
              "1  Rishabh             83   Male    English\n",
              "2     Ajay             78   Male    Physics\n",
              "3  Abhinav             86   Male  Chemistry\n",
              "4   Anurag             91   Male    English"
            ],
            "text/html": [
              "\n",
              "  <div id=\"df-0d022da8-be85-4233-b34e-fa6b5b447da0\">\n",
              "    <div class=\"colab-df-container\">\n",
              "      <div>\n",
              "<style scoped>\n",
              "    .dataframe tbody tr th:only-of-type {\n",
              "        vertical-align: middle;\n",
              "    }\n",
              "\n",
              "    .dataframe tbody tr th {\n",
              "        vertical-align: top;\n",
              "    }\n",
              "\n",
              "    .dataframe thead th {\n",
              "        text-align: right;\n",
              "    }\n",
              "</style>\n",
              "<table border=\"1\" class=\"dataframe\">\n",
              "  <thead>\n",
              "    <tr style=\"text-align: right;\">\n",
              "      <th></th>\n",
              "      <th>Student</th>\n",
              "      <th>Overall Marks</th>\n",
              "      <th>Gender</th>\n",
              "      <th>Subject</th>\n",
              "    </tr>\n",
              "  </thead>\n",
              "  <tbody>\n",
              "    <tr>\n",
              "      <th>0</th>\n",
              "      <td>Anish</td>\n",
              "      <td>97</td>\n",
              "      <td>Male</td>\n",
              "      <td>English</td>\n",
              "    </tr>\n",
              "    <tr>\n",
              "      <th>1</th>\n",
              "      <td>Rishabh</td>\n",
              "      <td>83</td>\n",
              "      <td>Male</td>\n",
              "      <td>English</td>\n",
              "    </tr>\n",
              "    <tr>\n",
              "      <th>2</th>\n",
              "      <td>Ajay</td>\n",
              "      <td>78</td>\n",
              "      <td>Male</td>\n",
              "      <td>Physics</td>\n",
              "    </tr>\n",
              "    <tr>\n",
              "      <th>3</th>\n",
              "      <td>Abhinav</td>\n",
              "      <td>86</td>\n",
              "      <td>Male</td>\n",
              "      <td>Chemistry</td>\n",
              "    </tr>\n",
              "    <tr>\n",
              "      <th>4</th>\n",
              "      <td>Anurag</td>\n",
              "      <td>91</td>\n",
              "      <td>Male</td>\n",
              "      <td>English</td>\n",
              "    </tr>\n",
              "  </tbody>\n",
              "</table>\n",
              "</div>\n",
              "      <button class=\"colab-df-convert\" onclick=\"convertToInteractive('df-0d022da8-be85-4233-b34e-fa6b5b447da0')\"\n",
              "              title=\"Convert this dataframe to an interactive table.\"\n",
              "              style=\"display:none;\">\n",
              "        \n",
              "  <svg xmlns=\"http://www.w3.org/2000/svg\" height=\"24px\"viewBox=\"0 0 24 24\"\n",
              "       width=\"24px\">\n",
              "    <path d=\"M0 0h24v24H0V0z\" fill=\"none\"/>\n",
              "    <path d=\"M18.56 5.44l.94 2.06.94-2.06 2.06-.94-2.06-.94-.94-2.06-.94 2.06-2.06.94zm-11 1L8.5 8.5l.94-2.06 2.06-.94-2.06-.94L8.5 2.5l-.94 2.06-2.06.94zm10 10l.94 2.06.94-2.06 2.06-.94-2.06-.94-.94-2.06-.94 2.06-2.06.94z\"/><path d=\"M17.41 7.96l-1.37-1.37c-.4-.4-.92-.59-1.43-.59-.52 0-1.04.2-1.43.59L10.3 9.45l-7.72 7.72c-.78.78-.78 2.05 0 2.83L4 21.41c.39.39.9.59 1.41.59.51 0 1.02-.2 1.41-.59l7.78-7.78 2.81-2.81c.8-.78.8-2.07 0-2.86zM5.41 20L4 18.59l7.72-7.72 1.47 1.35L5.41 20z\"/>\n",
              "  </svg>\n",
              "      </button>\n",
              "      \n",
              "  <style>\n",
              "    .colab-df-container {\n",
              "      display:flex;\n",
              "      flex-wrap:wrap;\n",
              "      gap: 12px;\n",
              "    }\n",
              "\n",
              "    .colab-df-convert {\n",
              "      background-color: #E8F0FE;\n",
              "      border: none;\n",
              "      border-radius: 50%;\n",
              "      cursor: pointer;\n",
              "      display: none;\n",
              "      fill: #1967D2;\n",
              "      height: 32px;\n",
              "      padding: 0 0 0 0;\n",
              "      width: 32px;\n",
              "    }\n",
              "\n",
              "    .colab-df-convert:hover {\n",
              "      background-color: #E2EBFA;\n",
              "      box-shadow: 0px 1px 2px rgba(60, 64, 67, 0.3), 0px 1px 3px 1px rgba(60, 64, 67, 0.15);\n",
              "      fill: #174EA6;\n",
              "    }\n",
              "\n",
              "    [theme=dark] .colab-df-convert {\n",
              "      background-color: #3B4455;\n",
              "      fill: #D2E3FC;\n",
              "    }\n",
              "\n",
              "    [theme=dark] .colab-df-convert:hover {\n",
              "      background-color: #434B5C;\n",
              "      box-shadow: 0px 1px 3px 1px rgba(0, 0, 0, 0.15);\n",
              "      filter: drop-shadow(0px 1px 2px rgba(0, 0, 0, 0.3));\n",
              "      fill: #FFFFFF;\n",
              "    }\n",
              "  </style>\n",
              "\n",
              "      <script>\n",
              "        const buttonEl =\n",
              "          document.querySelector('#df-0d022da8-be85-4233-b34e-fa6b5b447da0 button.colab-df-convert');\n",
              "        buttonEl.style.display =\n",
              "          google.colab.kernel.accessAllowed ? 'block' : 'none';\n",
              "\n",
              "        async function convertToInteractive(key) {\n",
              "          const element = document.querySelector('#df-0d022da8-be85-4233-b34e-fa6b5b447da0');\n",
              "          const dataTable =\n",
              "            await google.colab.kernel.invokeFunction('convertToInteractive',\n",
              "                                                     [key], {});\n",
              "          if (!dataTable) return;\n",
              "\n",
              "          const docLinkHtml = 'Like what you see? Visit the ' +\n",
              "            '<a target=\"_blank\" href=https://colab.research.google.com/notebooks/data_table.ipynb>data table notebook</a>'\n",
              "            + ' to learn more about interactive tables.';\n",
              "          element.innerHTML = '';\n",
              "          dataTable['output_type'] = 'display_data';\n",
              "          await google.colab.output.renderOutput(dataTable, element);\n",
              "          const docLink = document.createElement('div');\n",
              "          docLink.innerHTML = docLinkHtml;\n",
              "          element.appendChild(docLink);\n",
              "        }\n",
              "      </script>\n",
              "    </div>\n",
              "  </div>\n",
              "  "
            ]
          },
          "metadata": {},
          "execution_count": 21
        }
      ]
    },
    {
      "metadata": {
        "id": "ipbTtkqqTCp-"
      },
      "cell_type": "markdown",
      "source": [
        "H0: Sample mean of the data similar to the population mean\n",
        "\n",
        "\n",
        "H1: Sample Mean of the data not equal to the population mean"
      ]
    },
    {
      "metadata": {
        "trusted": true,
        "id": "uXpvHQ9PTCp_",
        "outputId": "ade9bfd7-5fe4-428e-f9dc-f77dd5797a5b"
      },
      "cell_type": "code",
      "source": [
        "#Calculatin mean\n",
        "data['Overall Marks'].mean()"
      ],
      "execution_count": null,
      "outputs": [
        {
          "output_type": "execute_result",
          "execution_count": 10,
          "data": {
            "text/plain": "68.21"
          },
          "metadata": {}
        }
      ]
    },
    {
      "metadata": {
        "trusted": true,
        "id": "yPB8wc7tTCp_"
      },
      "cell_type": "code",
      "source": [
        "from scipy.stats import ttest_1samp\n",
        "t_statistic, p_value = ttest_1samp(data['Overall Marks'], 80)"
      ],
      "execution_count": null,
      "outputs": []
    },
    {
      "metadata": {
        "trusted": true,
        "id": "_rJ5KLq3TCqA",
        "outputId": "83fffd24-5970-4632-a5e9-417c7aefaea5"
      },
      "cell_type": "code",
      "source": [
        "p_value"
      ],
      "execution_count": null,
      "outputs": [
        {
          "output_type": "execute_result",
          "execution_count": 6,
          "data": {
            "text/plain": "2.0425103096534092e-05"
          },
          "metadata": {}
        }
      ]
    },
    {
      "metadata": {
        "trusted": true,
        "id": "8LYX-A4DTCqA",
        "outputId": "53791e7f-e22f-4ec9-bd8b-ff632f201348"
      },
      "cell_type": "code",
      "source": [
        "#Calculatin mean\n",
        "data['Overall Marks'].mean()"
      ],
      "execution_count": null,
      "outputs": [
        {
          "output_type": "execute_result",
          "execution_count": 7,
          "data": {
            "text/plain": "68.21"
          },
          "metadata": {}
        }
      ]
    },
    {
      "metadata": {
        "trusted": true,
        "id": "UwVdXgS8TCqA"
      },
      "cell_type": "code",
      "source": [
        "t_statistic, p_value = ttest_1samp(data['Overall Marks'], 68)"
      ],
      "execution_count": null,
      "outputs": []
    },
    {
      "metadata": {
        "trusted": true,
        "id": "p3rvmjy5TCqB",
        "outputId": "7b33331f-9f06-430d-c4b7-c5b6f83e1fc1"
      },
      "cell_type": "code",
      "source": [
        "p_value"
      ],
      "execution_count": null,
      "outputs": [
        {
          "output_type": "execute_result",
          "execution_count": 9,
          "data": {
            "text/plain": "0.9366270285179359"
          },
          "metadata": {}
        }
      ]
    },
    {
      "metadata": {
        "trusted": true,
        "id": "FPmk0CZmTCqB"
      },
      "cell_type": "code",
      "source": [],
      "execution_count": null,
      "outputs": []
    },
    {
      "metadata": {
        "id": "X3tvjaXGTCqB"
      },
      "cell_type": "markdown",
      "source": [
        "# Paired T tests"
      ]
    },
    {
      "metadata": {
        "id": "BOZElinhTCqC"
      },
      "cell_type": "markdown",
      "source": [
        "we check if the same sample has changed its behaviour after an intervention or behaves signifcantly different two conditions."
      ]
    },
    {
      "metadata": {
        "trusted": true,
        "id": "v0vSiqoOTCqC"
      },
      "cell_type": "markdown",
      "source": [
        "Ho: that the differennce between two sample means is 0 , i.e X1bar - x2bar=0\n",
        "    \n",
        "Ha: that there is a significant difference between two   i.e X1bar - x2bar <>0"
      ]
    },
    {
      "metadata": {
        "trusted": true,
        "id": "du_tgxgeTCqC"
      },
      "cell_type": "markdown",
      "source": [
        "Formula for paired t test:\n",
        "    \n",
        "    t= [dbar/{sd/sqrt(n)}]\n",
        "    \n",
        "\n",
        "where d(bar)= mean of the case wise difference between before and after \n",
        "\n",
        "sd= standard deviation of the difference and n is sample size."
      ]
    },
    {
      "metadata": {
        "trusted": true,
        "id": "RosWneyzTCqD"
      },
      "cell_type": "code",
      "source": [
        "#Importing libraries\n",
        "import pandas as pd\n",
        "import scipy.stats as stats\n",
        "from scipy.stats import ttest_rel"
      ],
      "execution_count": null,
      "outputs": []
    },
    {
      "metadata": {
        "trusted": true,
        "id": "jHdWcaGRTCqD"
      },
      "cell_type": "code",
      "source": [
        "#Loading data\n",
        "data = pd.read_csv(\"Paired-T-test.csv\")"
      ],
      "execution_count": null,
      "outputs": []
    },
    {
      "metadata": {
        "trusted": true,
        "colab": {
          "base_uri": "https://localhost:8080/",
          "height": 206
        },
        "id": "596J4w3TTCqD",
        "outputId": "750c9cd5-3606-41b8-d91b-a3886227e4ad"
      },
      "cell_type": "code",
      "source": [
        "#Printing first 5 rows\n",
        "data.head()"
      ],
      "execution_count": null,
      "outputs": [
        {
          "output_type": "execute_result",
          "data": {
            "text/plain": [
              "   Errors using typewriter  Errors using a computer\n",
              "0                        8                        8\n",
              "1                       13                        8\n",
              "2                       10                        4\n",
              "3                        7                        9\n",
              "4                       13                       10"
            ],
            "text/html": [
              "\n",
              "  <div id=\"df-58ad8911-1bcf-4c15-ae41-1f3ff9288fda\">\n",
              "    <div class=\"colab-df-container\">\n",
              "      <div>\n",
              "<style scoped>\n",
              "    .dataframe tbody tr th:only-of-type {\n",
              "        vertical-align: middle;\n",
              "    }\n",
              "\n",
              "    .dataframe tbody tr th {\n",
              "        vertical-align: top;\n",
              "    }\n",
              "\n",
              "    .dataframe thead th {\n",
              "        text-align: right;\n",
              "    }\n",
              "</style>\n",
              "<table border=\"1\" class=\"dataframe\">\n",
              "  <thead>\n",
              "    <tr style=\"text-align: right;\">\n",
              "      <th></th>\n",
              "      <th>Errors using typewriter</th>\n",
              "      <th>Errors using a computer</th>\n",
              "    </tr>\n",
              "  </thead>\n",
              "  <tbody>\n",
              "    <tr>\n",
              "      <th>0</th>\n",
              "      <td>8</td>\n",
              "      <td>8</td>\n",
              "    </tr>\n",
              "    <tr>\n",
              "      <th>1</th>\n",
              "      <td>13</td>\n",
              "      <td>8</td>\n",
              "    </tr>\n",
              "    <tr>\n",
              "      <th>2</th>\n",
              "      <td>10</td>\n",
              "      <td>4</td>\n",
              "    </tr>\n",
              "    <tr>\n",
              "      <th>3</th>\n",
              "      <td>7</td>\n",
              "      <td>9</td>\n",
              "    </tr>\n",
              "    <tr>\n",
              "      <th>4</th>\n",
              "      <td>13</td>\n",
              "      <td>10</td>\n",
              "    </tr>\n",
              "  </tbody>\n",
              "</table>\n",
              "</div>\n",
              "      <button class=\"colab-df-convert\" onclick=\"convertToInteractive('df-58ad8911-1bcf-4c15-ae41-1f3ff9288fda')\"\n",
              "              title=\"Convert this dataframe to an interactive table.\"\n",
              "              style=\"display:none;\">\n",
              "        \n",
              "  <svg xmlns=\"http://www.w3.org/2000/svg\" height=\"24px\"viewBox=\"0 0 24 24\"\n",
              "       width=\"24px\">\n",
              "    <path d=\"M0 0h24v24H0V0z\" fill=\"none\"/>\n",
              "    <path d=\"M18.56 5.44l.94 2.06.94-2.06 2.06-.94-2.06-.94-.94-2.06-.94 2.06-2.06.94zm-11 1L8.5 8.5l.94-2.06 2.06-.94-2.06-.94L8.5 2.5l-.94 2.06-2.06.94zm10 10l.94 2.06.94-2.06 2.06-.94-2.06-.94-.94-2.06-.94 2.06-2.06.94z\"/><path d=\"M17.41 7.96l-1.37-1.37c-.4-.4-.92-.59-1.43-.59-.52 0-1.04.2-1.43.59L10.3 9.45l-7.72 7.72c-.78.78-.78 2.05 0 2.83L4 21.41c.39.39.9.59 1.41.59.51 0 1.02-.2 1.41-.59l7.78-7.78 2.81-2.81c.8-.78.8-2.07 0-2.86zM5.41 20L4 18.59l7.72-7.72 1.47 1.35L5.41 20z\"/>\n",
              "  </svg>\n",
              "      </button>\n",
              "      \n",
              "  <style>\n",
              "    .colab-df-container {\n",
              "      display:flex;\n",
              "      flex-wrap:wrap;\n",
              "      gap: 12px;\n",
              "    }\n",
              "\n",
              "    .colab-df-convert {\n",
              "      background-color: #E8F0FE;\n",
              "      border: none;\n",
              "      border-radius: 50%;\n",
              "      cursor: pointer;\n",
              "      display: none;\n",
              "      fill: #1967D2;\n",
              "      height: 32px;\n",
              "      padding: 0 0 0 0;\n",
              "      width: 32px;\n",
              "    }\n",
              "\n",
              "    .colab-df-convert:hover {\n",
              "      background-color: #E2EBFA;\n",
              "      box-shadow: 0px 1px 2px rgba(60, 64, 67, 0.3), 0px 1px 3px 1px rgba(60, 64, 67, 0.15);\n",
              "      fill: #174EA6;\n",
              "    }\n",
              "\n",
              "    [theme=dark] .colab-df-convert {\n",
              "      background-color: #3B4455;\n",
              "      fill: #D2E3FC;\n",
              "    }\n",
              "\n",
              "    [theme=dark] .colab-df-convert:hover {\n",
              "      background-color: #434B5C;\n",
              "      box-shadow: 0px 1px 3px 1px rgba(0, 0, 0, 0.15);\n",
              "      filter: drop-shadow(0px 1px 2px rgba(0, 0, 0, 0.3));\n",
              "      fill: #FFFFFF;\n",
              "    }\n",
              "  </style>\n",
              "\n",
              "      <script>\n",
              "        const buttonEl =\n",
              "          document.querySelector('#df-58ad8911-1bcf-4c15-ae41-1f3ff9288fda button.colab-df-convert');\n",
              "        buttonEl.style.display =\n",
              "          google.colab.kernel.accessAllowed ? 'block' : 'none';\n",
              "\n",
              "        async function convertToInteractive(key) {\n",
              "          const element = document.querySelector('#df-58ad8911-1bcf-4c15-ae41-1f3ff9288fda');\n",
              "          const dataTable =\n",
              "            await google.colab.kernel.invokeFunction('convertToInteractive',\n",
              "                                                     [key], {});\n",
              "          if (!dataTable) return;\n",
              "\n",
              "          const docLinkHtml = 'Like what you see? Visit the ' +\n",
              "            '<a target=\"_blank\" href=https://colab.research.google.com/notebooks/data_table.ipynb>data table notebook</a>'\n",
              "            + ' to learn more about interactive tables.';\n",
              "          element.innerHTML = '';\n",
              "          dataTable['output_type'] = 'display_data';\n",
              "          await google.colab.output.renderOutput(dataTable, element);\n",
              "          const docLink = document.createElement('div');\n",
              "          docLink.innerHTML = docLinkHtml;\n",
              "          element.appendChild(docLink);\n",
              "        }\n",
              "      </script>\n",
              "    </div>\n",
              "  </div>\n",
              "  "
            ]
          },
          "metadata": {},
          "execution_count": 27
        }
      ]
    },
    {
      "metadata": {
        "trusted": true,
        "id": "05KkTWQbTCqE"
      },
      "cell_type": "code",
      "source": [
        "# Calculating t and p-value using scipy library\n",
        "t_statistic, p_value = stats.ttest_rel(data['Errors using typewriter'],data['Errors using a computer'])"
      ],
      "execution_count": null,
      "outputs": []
    },
    {
      "metadata": {
        "trusted": true,
        "colab": {
          "base_uri": "https://localhost:8080/"
        },
        "id": "RLDiPBZnTCqE",
        "outputId": "b69d2a15-ad07-4a40-e58a-b492cb75acfd"
      },
      "cell_type": "code",
      "source": [
        "#Printing p_value\n",
        "p_value"
      ],
      "execution_count": null,
      "outputs": [
        {
          "output_type": "execute_result",
          "data": {
            "text/plain": [
              "0.0011653976281601139"
            ]
          },
          "metadata": {},
          "execution_count": 29
        }
      ]
    },
    {
      "metadata": {
        "id": "CazvD8MyTCqE"
      },
      "cell_type": "markdown",
      "source": [
        "As the p-value is less than 0.05, we can reject the null hypothesis(mean error from typewriter = mean error from computer)"
      ]
    },
    {
      "metadata": {
        "trusted": true,
        "id": "iARrhcB8TCqF"
      },
      "cell_type": "markdown",
      "source": [
        "# 2 Sample T tests"
      ]
    },
    {
      "metadata": {
        "id": "JkPXo1UgTCqF"
      },
      "cell_type": "markdown",
      "source": [
        "t= difference/standard error\n",
        "\n",
        "difference is difference in their means and standard error would be the combine standard error of the two samples\n",
        "\n",
        "degree of freedom = n1+n2-2"
      ]
    },
    {
      "metadata": {
        "id": "vLhHYyOpTCqF"
      },
      "cell_type": "markdown",
      "source": [
        "formula :\n",
        "    \n",
        "    t = [x1bar - x2bar]/ [sqrt({stddev 1 squre/n1} + {stddev 2 squre/n2})]+"
      ]
    },
    {
      "metadata": {
        "id": "lCb6ZY-rTCqG"
      },
      "cell_type": "markdown",
      "source": [
        "Example:- \n",
        "    \n",
        "    You have two choices to go to eat. one is Hauz khas  and the other one is Defence colony. you dont want to spend lot of money , so you decide to figure out if there is a siginificant difference in the meal prices of the places. use alpha 0.05"
      ]
    },
    {
      "metadata": {
        "id": "Bf7zk0eETCqG"
      },
      "cell_type": "markdown",
      "source": [
        "H0: the two prices are similar  i.e means are same\n",
        "\n",
        "H1: prices of the two places are significantly different "
      ]
    },
    {
      "metadata": {
        "id": "yPDJl1ldTCqG"
      },
      "cell_type": "markdown",
      "source": [
        "Mean hauz khas = 178.89\n",
        "\n",
        "defence colony = 222.86\n",
        "\n",
        "n hauz = 18\n",
        "\n",
        "n defence =14\n",
        "\n",
        "sd hauz = 52.9\n",
        "\n",
        "sd defence= 43.58\n",
        "\n",
        "use alpha 0.05\n",
        "\n"
      ]
    },
    {
      "metadata": {
        "id": "amD0rMZ8TCqG"
      },
      "cell_type": "markdown",
      "source": [
        "t value = [222.86-178.89] / sqrt ( ([52.9*52.9]/18)  + ([43.58*43.58]/14))\n",
        "\n",
        "t value = 2.58\n",
        "\n",
        "degree of freedom = 18+14-2 = 30\n",
        "\n",
        "\n",
        "t critical value  @ 30 in t table  is 2.042 \n",
        "\n",
        "reject the null hypothesis, hence conclude signicant difference in prices between two shops"
      ]
    },
    {
      "metadata": {
        "trusted": true,
        "id": "2PEIDlnXTCqH"
      },
      "cell_type": "code",
      "source": [
        "#Importing libraries\n",
        "import pandas as pd\n",
        "import scipy.stats as stats\n",
        "from scipy.stats import ttest_ind"
      ],
      "execution_count": null,
      "outputs": []
    },
    {
      "metadata": {
        "trusted": true,
        "id": "z-GvnYuRTCqH"
      },
      "cell_type": "code",
      "source": [
        "#Loading datasets\n",
        "data = pd.read_csv('2-sample-test.csv')"
      ],
      "execution_count": null,
      "outputs": []
    },
    {
      "metadata": {
        "trusted": true,
        "colab": {
          "base_uri": "https://localhost:8080/",
          "height": 206
        },
        "id": "b9JCDgLPTCqH",
        "outputId": "b8348615-1ada-44da-f120-e898b9f577b8"
      },
      "cell_type": "code",
      "source": [
        "#Printing first 5 rows\n",
        "data.head()"
      ],
      "execution_count": null,
      "outputs": [
        {
          "output_type": "execute_result",
          "data": {
            "text/plain": [
              "   Hauz Khas  Defence Colony\n",
              "0        180           220.0\n",
              "1        100           200.0\n",
              "2        120           240.0\n",
              "3        220           180.0\n",
              "4        160           160.0"
            ],
            "text/html": [
              "\n",
              "  <div id=\"df-39b73eb8-3c1b-4e3e-b808-4c6deaef6056\">\n",
              "    <div class=\"colab-df-container\">\n",
              "      <div>\n",
              "<style scoped>\n",
              "    .dataframe tbody tr th:only-of-type {\n",
              "        vertical-align: middle;\n",
              "    }\n",
              "\n",
              "    .dataframe tbody tr th {\n",
              "        vertical-align: top;\n",
              "    }\n",
              "\n",
              "    .dataframe thead th {\n",
              "        text-align: right;\n",
              "    }\n",
              "</style>\n",
              "<table border=\"1\" class=\"dataframe\">\n",
              "  <thead>\n",
              "    <tr style=\"text-align: right;\">\n",
              "      <th></th>\n",
              "      <th>Hauz Khas</th>\n",
              "      <th>Defence Colony</th>\n",
              "    </tr>\n",
              "  </thead>\n",
              "  <tbody>\n",
              "    <tr>\n",
              "      <th>0</th>\n",
              "      <td>180</td>\n",
              "      <td>220.0</td>\n",
              "    </tr>\n",
              "    <tr>\n",
              "      <th>1</th>\n",
              "      <td>100</td>\n",
              "      <td>200.0</td>\n",
              "    </tr>\n",
              "    <tr>\n",
              "      <th>2</th>\n",
              "      <td>120</td>\n",
              "      <td>240.0</td>\n",
              "    </tr>\n",
              "    <tr>\n",
              "      <th>3</th>\n",
              "      <td>220</td>\n",
              "      <td>180.0</td>\n",
              "    </tr>\n",
              "    <tr>\n",
              "      <th>4</th>\n",
              "      <td>160</td>\n",
              "      <td>160.0</td>\n",
              "    </tr>\n",
              "  </tbody>\n",
              "</table>\n",
              "</div>\n",
              "      <button class=\"colab-df-convert\" onclick=\"convertToInteractive('df-39b73eb8-3c1b-4e3e-b808-4c6deaef6056')\"\n",
              "              title=\"Convert this dataframe to an interactive table.\"\n",
              "              style=\"display:none;\">\n",
              "        \n",
              "  <svg xmlns=\"http://www.w3.org/2000/svg\" height=\"24px\"viewBox=\"0 0 24 24\"\n",
              "       width=\"24px\">\n",
              "    <path d=\"M0 0h24v24H0V0z\" fill=\"none\"/>\n",
              "    <path d=\"M18.56 5.44l.94 2.06.94-2.06 2.06-.94-2.06-.94-.94-2.06-.94 2.06-2.06.94zm-11 1L8.5 8.5l.94-2.06 2.06-.94-2.06-.94L8.5 2.5l-.94 2.06-2.06.94zm10 10l.94 2.06.94-2.06 2.06-.94-2.06-.94-.94-2.06-.94 2.06-2.06.94z\"/><path d=\"M17.41 7.96l-1.37-1.37c-.4-.4-.92-.59-1.43-.59-.52 0-1.04.2-1.43.59L10.3 9.45l-7.72 7.72c-.78.78-.78 2.05 0 2.83L4 21.41c.39.39.9.59 1.41.59.51 0 1.02-.2 1.41-.59l7.78-7.78 2.81-2.81c.8-.78.8-2.07 0-2.86zM5.41 20L4 18.59l7.72-7.72 1.47 1.35L5.41 20z\"/>\n",
              "  </svg>\n",
              "      </button>\n",
              "      \n",
              "  <style>\n",
              "    .colab-df-container {\n",
              "      display:flex;\n",
              "      flex-wrap:wrap;\n",
              "      gap: 12px;\n",
              "    }\n",
              "\n",
              "    .colab-df-convert {\n",
              "      background-color: #E8F0FE;\n",
              "      border: none;\n",
              "      border-radius: 50%;\n",
              "      cursor: pointer;\n",
              "      display: none;\n",
              "      fill: #1967D2;\n",
              "      height: 32px;\n",
              "      padding: 0 0 0 0;\n",
              "      width: 32px;\n",
              "    }\n",
              "\n",
              "    .colab-df-convert:hover {\n",
              "      background-color: #E2EBFA;\n",
              "      box-shadow: 0px 1px 2px rgba(60, 64, 67, 0.3), 0px 1px 3px 1px rgba(60, 64, 67, 0.15);\n",
              "      fill: #174EA6;\n",
              "    }\n",
              "\n",
              "    [theme=dark] .colab-df-convert {\n",
              "      background-color: #3B4455;\n",
              "      fill: #D2E3FC;\n",
              "    }\n",
              "\n",
              "    [theme=dark] .colab-df-convert:hover {\n",
              "      background-color: #434B5C;\n",
              "      box-shadow: 0px 1px 3px 1px rgba(0, 0, 0, 0.15);\n",
              "      filter: drop-shadow(0px 1px 2px rgba(0, 0, 0, 0.3));\n",
              "      fill: #FFFFFF;\n",
              "    }\n",
              "  </style>\n",
              "\n",
              "      <script>\n",
              "        const buttonEl =\n",
              "          document.querySelector('#df-39b73eb8-3c1b-4e3e-b808-4c6deaef6056 button.colab-df-convert');\n",
              "        buttonEl.style.display =\n",
              "          google.colab.kernel.accessAllowed ? 'block' : 'none';\n",
              "\n",
              "        async function convertToInteractive(key) {\n",
              "          const element = document.querySelector('#df-39b73eb8-3c1b-4e3e-b808-4c6deaef6056');\n",
              "          const dataTable =\n",
              "            await google.colab.kernel.invokeFunction('convertToInteractive',\n",
              "                                                     [key], {});\n",
              "          if (!dataTable) return;\n",
              "\n",
              "          const docLinkHtml = 'Like what you see? Visit the ' +\n",
              "            '<a target=\"_blank\" href=https://colab.research.google.com/notebooks/data_table.ipynb>data table notebook</a>'\n",
              "            + ' to learn more about interactive tables.';\n",
              "          element.innerHTML = '';\n",
              "          dataTable['output_type'] = 'display_data';\n",
              "          await google.colab.output.renderOutput(dataTable, element);\n",
              "          const docLink = document.createElement('div');\n",
              "          docLink.innerHTML = docLinkHtml;\n",
              "          element.appendChild(docLink);\n",
              "        }\n",
              "      </script>\n",
              "    </div>\n",
              "  </div>\n",
              "  "
            ]
          },
          "metadata": {},
          "execution_count": 32
        }
      ]
    },
    {
      "metadata": {
        "trusted": true,
        "id": "D2FVN_sETCqI"
      },
      "cell_type": "code",
      "source": [
        "#Calculating t-statistic and p-value using 2 sample t-test\n",
        "t_statistic, p_value = ttest_ind(data['Hauz Khas'],data['Defence Colony'][0:14],equal_var = False)"
      ],
      "execution_count": null,
      "outputs": []
    },
    {
      "metadata": {
        "trusted": true,
        "id": "k3DZ8C3yTCqI",
        "outputId": "9ddf7254-4ffa-4e61-9e93-8dc423b19669"
      },
      "cell_type": "code",
      "source": [
        "print(p_value)"
      ],
      "execution_count": null,
      "outputs": [
        {
          "output_type": "stream",
          "text": "0.015153519382495245\n",
          "name": "stdout"
        }
      ]
    },
    {
      "metadata": {
        "id": "dTPurt_HTCqI"
      },
      "cell_type": "markdown",
      "source": [
        "As the p-value is less than 0.05, we can reject the null hypothesis"
      ]
    },
    {
      "metadata": {
        "id": "Eiyt3wt2TCqJ"
      },
      "cell_type": "markdown",
      "source": [
        "# Chi Squared Tests"
      ]
    },
    {
      "metadata": {
        "id": "URlKWiVuTCqJ"
      },
      "cell_type": "markdown",
      "source": [
        "Example:-\n",
        "    \n",
        "    there is a training institute called \"winiit\", which claims that 41 out of 100 students in it's class qualify for premier engineering institutions.normally each year only 33% students are able to make it into premier engineering institutuions. so you should enroll your self in winiit?\n",
        "    "
      ]
    },
    {
      "metadata": {
        "id": "Vif_RxhcTCqJ"
      },
      "cell_type": "markdown",
      "source": [
        "expecation: 33 out of 100 qualify for premier institutions.\n",
        "\n",
        "observation for winiit: 41 out 100 qualify for permier institutions.\n",
        "\n",
        "are these number are occuring by chance or really it happening with winiit."
      ]
    },
    {
      "metadata": {
        "id": "vxl9ZcwkTCqK"
      },
      "cell_type": "markdown",
      "source": [
        "create frequency table:\n",
        "    \n",
        "            sucessful   unsucessful\n",
        "       \n",
        "      observed 41         59\n",
        "      \n",
        "      expected   33        67\n",
        "    "
      ]
    },
    {
      "metadata": {
        "id": "ZaryE3uFTCqK"
      },
      "cell_type": "markdown",
      "source": [
        "Ho: no significance difference between observed and expected\n",
        "    \n",
        "H1:there is a significance difference between observed and expected"
      ]
    },
    {
      "metadata": {
        "trusted": true,
        "id": "07cV1ED5TCqK"
      },
      "cell_type": "markdown",
      "source": [
        "Formula:\n",
        "    \n",
        "    https://www.statisticshowto.datasciencecentral.com/probability-and-statistics/chi-square/\n",
        "        "
      ]
    },
    {
      "metadata": {
        "id": "dwlrwNagTCqK"
      },
      "cell_type": "markdown",
      "source": [
        "chisqure = {[(41-33)*(41-33)]/33}  + {[(59-67)*(59-67)]/67}\n",
        "\n",
        "\n",
        "chi squre = 2.89\n",
        "\n",
        "degrees of freedom = number of categories - 1  = 2-1=1\n",
        "\n",
        "\n",
        "check the chisqure critical value @ dof 1 and alpha value 0.05 = 3.84\n",
        "\n",
        "\n",
        "chisqure < chisqure critical value\n",
        "\n",
        "\n",
        "hence we fail to reject null hypothesis"
      ]
    },
    {
      "metadata": {
        "trusted": true,
        "id": "AvlQuM3wTCqL"
      },
      "cell_type": "code",
      "source": [],
      "execution_count": null,
      "outputs": []
    },
    {
      "metadata": {
        "trusted": true,
        "id": "-n3IUm0uTCqL"
      },
      "cell_type": "code",
      "source": [
        "#Importing libraries\n",
        "import pandas as pd\n",
        "import numpy as np\n",
        "import scipy.stats as stats\n",
        "from scipy.stats import chisquare"
      ],
      "execution_count": null,
      "outputs": []
    },
    {
      "metadata": {
        "trusted": true,
        "id": "zDV9tOMFTCqM"
      },
      "cell_type": "code",
      "source": [
        "#Importing data\n",
        "data = pd.read_csv(\"chi_square.csv\")"
      ],
      "execution_count": null,
      "outputs": []
    },
    {
      "metadata": {
        "trusted": true,
        "colab": {
          "base_uri": "https://localhost:8080/",
          "height": 112
        },
        "id": "vhmnsTb4TCqM",
        "outputId": "97e9c8e6-7d19-4c87-c130-7ccea433127c"
      },
      "cell_type": "code",
      "source": [
        "#Printing\n",
        "data"
      ],
      "execution_count": null,
      "outputs": [
        {
          "output_type": "execute_result",
          "data": {
            "text/plain": [
              "          Event  Observed  Expected\n",
              "0    Successful        41        33\n",
              "1  Unsuccessful        59        67"
            ],
            "text/html": [
              "\n",
              "  <div id=\"df-e6884500-e174-4128-8bf9-7386f5a2c3a2\">\n",
              "    <div class=\"colab-df-container\">\n",
              "      <div>\n",
              "<style scoped>\n",
              "    .dataframe tbody tr th:only-of-type {\n",
              "        vertical-align: middle;\n",
              "    }\n",
              "\n",
              "    .dataframe tbody tr th {\n",
              "        vertical-align: top;\n",
              "    }\n",
              "\n",
              "    .dataframe thead th {\n",
              "        text-align: right;\n",
              "    }\n",
              "</style>\n",
              "<table border=\"1\" class=\"dataframe\">\n",
              "  <thead>\n",
              "    <tr style=\"text-align: right;\">\n",
              "      <th></th>\n",
              "      <th>Event</th>\n",
              "      <th>Observed</th>\n",
              "      <th>Expected</th>\n",
              "    </tr>\n",
              "  </thead>\n",
              "  <tbody>\n",
              "    <tr>\n",
              "      <th>0</th>\n",
              "      <td>Successful</td>\n",
              "      <td>41</td>\n",
              "      <td>33</td>\n",
              "    </tr>\n",
              "    <tr>\n",
              "      <th>1</th>\n",
              "      <td>Unsuccessful</td>\n",
              "      <td>59</td>\n",
              "      <td>67</td>\n",
              "    </tr>\n",
              "  </tbody>\n",
              "</table>\n",
              "</div>\n",
              "      <button class=\"colab-df-convert\" onclick=\"convertToInteractive('df-e6884500-e174-4128-8bf9-7386f5a2c3a2')\"\n",
              "              title=\"Convert this dataframe to an interactive table.\"\n",
              "              style=\"display:none;\">\n",
              "        \n",
              "  <svg xmlns=\"http://www.w3.org/2000/svg\" height=\"24px\"viewBox=\"0 0 24 24\"\n",
              "       width=\"24px\">\n",
              "    <path d=\"M0 0h24v24H0V0z\" fill=\"none\"/>\n",
              "    <path d=\"M18.56 5.44l.94 2.06.94-2.06 2.06-.94-2.06-.94-.94-2.06-.94 2.06-2.06.94zm-11 1L8.5 8.5l.94-2.06 2.06-.94-2.06-.94L8.5 2.5l-.94 2.06-2.06.94zm10 10l.94 2.06.94-2.06 2.06-.94-2.06-.94-.94-2.06-.94 2.06-2.06.94z\"/><path d=\"M17.41 7.96l-1.37-1.37c-.4-.4-.92-.59-1.43-.59-.52 0-1.04.2-1.43.59L10.3 9.45l-7.72 7.72c-.78.78-.78 2.05 0 2.83L4 21.41c.39.39.9.59 1.41.59.51 0 1.02-.2 1.41-.59l7.78-7.78 2.81-2.81c.8-.78.8-2.07 0-2.86zM5.41 20L4 18.59l7.72-7.72 1.47 1.35L5.41 20z\"/>\n",
              "  </svg>\n",
              "      </button>\n",
              "      \n",
              "  <style>\n",
              "    .colab-df-container {\n",
              "      display:flex;\n",
              "      flex-wrap:wrap;\n",
              "      gap: 12px;\n",
              "    }\n",
              "\n",
              "    .colab-df-convert {\n",
              "      background-color: #E8F0FE;\n",
              "      border: none;\n",
              "      border-radius: 50%;\n",
              "      cursor: pointer;\n",
              "      display: none;\n",
              "      fill: #1967D2;\n",
              "      height: 32px;\n",
              "      padding: 0 0 0 0;\n",
              "      width: 32px;\n",
              "    }\n",
              "\n",
              "    .colab-df-convert:hover {\n",
              "      background-color: #E2EBFA;\n",
              "      box-shadow: 0px 1px 2px rgba(60, 64, 67, 0.3), 0px 1px 3px 1px rgba(60, 64, 67, 0.15);\n",
              "      fill: #174EA6;\n",
              "    }\n",
              "\n",
              "    [theme=dark] .colab-df-convert {\n",
              "      background-color: #3B4455;\n",
              "      fill: #D2E3FC;\n",
              "    }\n",
              "\n",
              "    [theme=dark] .colab-df-convert:hover {\n",
              "      background-color: #434B5C;\n",
              "      box-shadow: 0px 1px 3px 1px rgba(0, 0, 0, 0.15);\n",
              "      filter: drop-shadow(0px 1px 2px rgba(0, 0, 0, 0.3));\n",
              "      fill: #FFFFFF;\n",
              "    }\n",
              "  </style>\n",
              "\n",
              "      <script>\n",
              "        const buttonEl =\n",
              "          document.querySelector('#df-e6884500-e174-4128-8bf9-7386f5a2c3a2 button.colab-df-convert');\n",
              "        buttonEl.style.display =\n",
              "          google.colab.kernel.accessAllowed ? 'block' : 'none';\n",
              "\n",
              "        async function convertToInteractive(key) {\n",
              "          const element = document.querySelector('#df-e6884500-e174-4128-8bf9-7386f5a2c3a2');\n",
              "          const dataTable =\n",
              "            await google.colab.kernel.invokeFunction('convertToInteractive',\n",
              "                                                     [key], {});\n",
              "          if (!dataTable) return;\n",
              "\n",
              "          const docLinkHtml = 'Like what you see? Visit the ' +\n",
              "            '<a target=\"_blank\" href=https://colab.research.google.com/notebooks/data_table.ipynb>data table notebook</a>'\n",
              "            + ' to learn more about interactive tables.';\n",
              "          element.innerHTML = '';\n",
              "          dataTable['output_type'] = 'display_data';\n",
              "          await google.colab.output.renderOutput(dataTable, element);\n",
              "          const docLink = document.createElement('div');\n",
              "          docLink.innerHTML = docLinkHtml;\n",
              "          element.appendChild(docLink);\n",
              "        }\n",
              "      </script>\n",
              "    </div>\n",
              "  </div>\n",
              "  "
            ]
          },
          "metadata": {},
          "execution_count": 15
        }
      ]
    },
    {
      "metadata": {
        "trusted": true,
        "id": "cYVWcLETTCqM"
      },
      "cell_type": "code",
      "source": [
        "#Calculating t-statistic and p-value of the chi square test\n",
        "t_statistic, p_value = chisquare(f_obs= data['Observed'],f_exp=data['Expected'])"
      ],
      "execution_count": null,
      "outputs": []
    },
    {
      "metadata": {
        "trusted": true,
        "id": "buiL3_VTTCqN",
        "outputId": "0ca043bb-05ea-45d9-d3be-f6e5cb1e27f5"
      },
      "cell_type": "code",
      "source": [
        "p_value"
      ],
      "execution_count": null,
      "outputs": [
        {
          "output_type": "execute_result",
          "execution_count": 26,
          "data": {
            "text/plain": "0.08887585044058065"
          },
          "metadata": {}
        }
      ]
    },
    {
      "metadata": {
        "trusted": true,
        "id": "g73pIsExTCqN"
      },
      "cell_type": "markdown",
      "source": [
        "P-value > 0.05 we fail to reject the null hypothesis , i.e the observed and expected frequencies are similar"
      ]
    },
    {
      "metadata": {
        "trusted": true,
        "id": "NamujOqmTCqO",
        "outputId": "934e9efc-56fb-46a0-e502-8ae4892dcfe9"
      },
      "cell_type": "code",
      "source": [
        "t_statistic"
      ],
      "execution_count": null,
      "outputs": [
        {
          "output_type": "execute_result",
          "execution_count": 27,
          "data": {
            "text/plain": "2.8946178199909545"
          },
          "metadata": {}
        }
      ]
    },
    {
      "metadata": {
        "id": "oT7CR1-yTCqO"
      },
      "cell_type": "markdown",
      "source": [
        "# Correlation"
      ]
    },
    {
      "metadata": {
        "id": "-xeNJrPOTCqR"
      },
      "cell_type": "markdown",
      "source": [
        "In realtime situvation, most of the variables are multiple variables, to understand how one variable is related to other variable , each other\n",
        "\n",
        "\n",
        "\n",
        "example:\n",
        "\n",
        "People who are taller genarally their weight is more\n",
        "\n",
        "Students wWho study more, get more marks\n",
        "\n",
        "more the age of the car lesser the value.\n"
      ]
    },
    {
      "metadata": {
        "id": "_adyRfrWTCqR"
      },
      "cell_type": "markdown",
      "source": [
        "Scatter plot help to see the relation between variable"
      ]
    },
    {
      "metadata": {
        "id": "LZOusr4LTCqR"
      },
      "cell_type": "markdown",
      "source": [
        "Correlation is used to determine the relationship between two variables.\n",
        "\n",
        "it is denoted by r.\n",
        "\n",
        "the value range from -1 to +1 , here 0 means no correlation "
      ]
    },
    {
      "metadata": {
        "id": "RWDg7JcsTCqS"
      },
      "cell_type": "markdown",
      "source": [
        "Formula:\n",
        "    \n",
        "    r= cov(x,y)/sx,sy\n",
        "    \n",
        "    cov(x,y) = covariance of x &y\n",
        "    sx= standard deviation of x\n",
        "    sy = standard deviation of u"
      ]
    },
    {
      "metadata": {
        "id": "t4ujZL7RTCqS"
      },
      "cell_type": "markdown",
      "source": [
        "the covariance shows howmuch of these variables vary with each other. while the standard deviation shows how much these variables vary apart from each other"
      ]
    },
    {
      "metadata": {
        "id": "r7v1TS0GTCqS"
      },
      "cell_type": "markdown",
      "source": [
        "example:-\n",
        "    \n",
        "    calculate the covariance for the following data set x and y:\n",
        "        \n",
        "        \n",
        "        x= 2.1,2.5,3.6,4.0 (Mean of x=3.1)\n",
        "        \n",
        "        y=8,10,12,14(Mean of y=11)\n",
        "        \n",
        "        Std dev of x = 0.896\n",
        "        \n",
        "        std dev of y = 2.582\n",
        "        \n",
        "        \n",
        "        cov(x,y)=  [ (2.1-3.1)(8-11)+(2.5-3.1)(10-11)+(3.6-3.1)(12-11)+(4.0-3.1)(14-11)  = 2.267\n",
        "        \n",
        "        corelation = r=2.267/(0.896*2.582)  = 0.979"
      ]
    },
    {
      "metadata": {
        "trusted": true,
        "id": "0PBtQEhNTCqT"
      },
      "cell_type": "code",
      "source": [
        "#Importing libraries\n",
        "import pandas as pd\n",
        "import numpy as np"
      ],
      "execution_count": null,
      "outputs": []
    },
    {
      "metadata": {
        "trusted": true,
        "id": "PsMbO12WTCqT"
      },
      "cell_type": "code",
      "source": [
        "#Loading data\n",
        "data = pd.read_csv('correlation.csv')"
      ],
      "execution_count": null,
      "outputs": []
    },
    {
      "metadata": {
        "trusted": true,
        "colab": {
          "base_uri": "https://localhost:8080/",
          "height": 206
        },
        "id": "hhxbdubNTCqU",
        "outputId": "420082a8-d8ea-4587-a4a0-af5477ff87ad"
      },
      "cell_type": "code",
      "source": [
        "#Printing first 5 rows\n",
        "data.head()"
      ],
      "execution_count": null,
      "outputs": [
        {
          "output_type": "execute_result",
          "data": {
            "text/plain": [
              "  Item_Identifier  Item_Weight  Item_MRP  Item_Outlet_Sales\n",
              "0           FDA15         9.30  249.8092          3735.1380\n",
              "1           DRC01         5.92   48.2692           443.4228\n",
              "2           FDN15        17.50  141.6180          2097.2700\n",
              "3           FDX07        19.20  182.0950           732.3800\n",
              "4           NCD19         8.93   53.8614           994.7052"
            ],
            "text/html": [
              "\n",
              "  <div id=\"df-07bdaa4a-4c5e-4aed-9718-8fc38260b31b\">\n",
              "    <div class=\"colab-df-container\">\n",
              "      <div>\n",
              "<style scoped>\n",
              "    .dataframe tbody tr th:only-of-type {\n",
              "        vertical-align: middle;\n",
              "    }\n",
              "\n",
              "    .dataframe tbody tr th {\n",
              "        vertical-align: top;\n",
              "    }\n",
              "\n",
              "    .dataframe thead th {\n",
              "        text-align: right;\n",
              "    }\n",
              "</style>\n",
              "<table border=\"1\" class=\"dataframe\">\n",
              "  <thead>\n",
              "    <tr style=\"text-align: right;\">\n",
              "      <th></th>\n",
              "      <th>Item_Identifier</th>\n",
              "      <th>Item_Weight</th>\n",
              "      <th>Item_MRP</th>\n",
              "      <th>Item_Outlet_Sales</th>\n",
              "    </tr>\n",
              "  </thead>\n",
              "  <tbody>\n",
              "    <tr>\n",
              "      <th>0</th>\n",
              "      <td>FDA15</td>\n",
              "      <td>9.30</td>\n",
              "      <td>249.8092</td>\n",
              "      <td>3735.1380</td>\n",
              "    </tr>\n",
              "    <tr>\n",
              "      <th>1</th>\n",
              "      <td>DRC01</td>\n",
              "      <td>5.92</td>\n",
              "      <td>48.2692</td>\n",
              "      <td>443.4228</td>\n",
              "    </tr>\n",
              "    <tr>\n",
              "      <th>2</th>\n",
              "      <td>FDN15</td>\n",
              "      <td>17.50</td>\n",
              "      <td>141.6180</td>\n",
              "      <td>2097.2700</td>\n",
              "    </tr>\n",
              "    <tr>\n",
              "      <th>3</th>\n",
              "      <td>FDX07</td>\n",
              "      <td>19.20</td>\n",
              "      <td>182.0950</td>\n",
              "      <td>732.3800</td>\n",
              "    </tr>\n",
              "    <tr>\n",
              "      <th>4</th>\n",
              "      <td>NCD19</td>\n",
              "      <td>8.93</td>\n",
              "      <td>53.8614</td>\n",
              "      <td>994.7052</td>\n",
              "    </tr>\n",
              "  </tbody>\n",
              "</table>\n",
              "</div>\n",
              "      <button class=\"colab-df-convert\" onclick=\"convertToInteractive('df-07bdaa4a-4c5e-4aed-9718-8fc38260b31b')\"\n",
              "              title=\"Convert this dataframe to an interactive table.\"\n",
              "              style=\"display:none;\">\n",
              "        \n",
              "  <svg xmlns=\"http://www.w3.org/2000/svg\" height=\"24px\"viewBox=\"0 0 24 24\"\n",
              "       width=\"24px\">\n",
              "    <path d=\"M0 0h24v24H0V0z\" fill=\"none\"/>\n",
              "    <path d=\"M18.56 5.44l.94 2.06.94-2.06 2.06-.94-2.06-.94-.94-2.06-.94 2.06-2.06.94zm-11 1L8.5 8.5l.94-2.06 2.06-.94-2.06-.94L8.5 2.5l-.94 2.06-2.06.94zm10 10l.94 2.06.94-2.06 2.06-.94-2.06-.94-.94-2.06-.94 2.06-2.06.94z\"/><path d=\"M17.41 7.96l-1.37-1.37c-.4-.4-.92-.59-1.43-.59-.52 0-1.04.2-1.43.59L10.3 9.45l-7.72 7.72c-.78.78-.78 2.05 0 2.83L4 21.41c.39.39.9.59 1.41.59.51 0 1.02-.2 1.41-.59l7.78-7.78 2.81-2.81c.8-.78.8-2.07 0-2.86zM5.41 20L4 18.59l7.72-7.72 1.47 1.35L5.41 20z\"/>\n",
              "  </svg>\n",
              "      </button>\n",
              "      \n",
              "  <style>\n",
              "    .colab-df-container {\n",
              "      display:flex;\n",
              "      flex-wrap:wrap;\n",
              "      gap: 12px;\n",
              "    }\n",
              "\n",
              "    .colab-df-convert {\n",
              "      background-color: #E8F0FE;\n",
              "      border: none;\n",
              "      border-radius: 50%;\n",
              "      cursor: pointer;\n",
              "      display: none;\n",
              "      fill: #1967D2;\n",
              "      height: 32px;\n",
              "      padding: 0 0 0 0;\n",
              "      width: 32px;\n",
              "    }\n",
              "\n",
              "    .colab-df-convert:hover {\n",
              "      background-color: #E2EBFA;\n",
              "      box-shadow: 0px 1px 2px rgba(60, 64, 67, 0.3), 0px 1px 3px 1px rgba(60, 64, 67, 0.15);\n",
              "      fill: #174EA6;\n",
              "    }\n",
              "\n",
              "    [theme=dark] .colab-df-convert {\n",
              "      background-color: #3B4455;\n",
              "      fill: #D2E3FC;\n",
              "    }\n",
              "\n",
              "    [theme=dark] .colab-df-convert:hover {\n",
              "      background-color: #434B5C;\n",
              "      box-shadow: 0px 1px 3px 1px rgba(0, 0, 0, 0.15);\n",
              "      filter: drop-shadow(0px 1px 2px rgba(0, 0, 0, 0.3));\n",
              "      fill: #FFFFFF;\n",
              "    }\n",
              "  </style>\n",
              "\n",
              "      <script>\n",
              "        const buttonEl =\n",
              "          document.querySelector('#df-07bdaa4a-4c5e-4aed-9718-8fc38260b31b button.colab-df-convert');\n",
              "        buttonEl.style.display =\n",
              "          google.colab.kernel.accessAllowed ? 'block' : 'none';\n",
              "\n",
              "        async function convertToInteractive(key) {\n",
              "          const element = document.querySelector('#df-07bdaa4a-4c5e-4aed-9718-8fc38260b31b');\n",
              "          const dataTable =\n",
              "            await google.colab.kernel.invokeFunction('convertToInteractive',\n",
              "                                                     [key], {});\n",
              "          if (!dataTable) return;\n",
              "\n",
              "          const docLinkHtml = 'Like what you see? Visit the ' +\n",
              "            '<a target=\"_blank\" href=https://colab.research.google.com/notebooks/data_table.ipynb>data table notebook</a>'\n",
              "            + ' to learn more about interactive tables.';\n",
              "          element.innerHTML = '';\n",
              "          dataTable['output_type'] = 'display_data';\n",
              "          await google.colab.output.renderOutput(dataTable, element);\n",
              "          const docLink = document.createElement('div');\n",
              "          docLink.innerHTML = docLinkHtml;\n",
              "          element.appendChild(docLink);\n",
              "        }\n",
              "      </script>\n",
              "    </div>\n",
              "  </div>\n",
              "  "
            ]
          },
          "metadata": {},
          "execution_count": 18
        }
      ]
    },
    {
      "metadata": {
        "trusted": true,
        "id": "yRBxZg-cTCqU",
        "outputId": "4db22153-448a-44e0-9175-731de00efa35"
      },
      "cell_type": "code",
      "source": [
        "#Correlation between Item_Weight and Item_MRP\n",
        "\n",
        "data[['Item_Weight','Item_MRP']].corr()"
      ],
      "execution_count": null,
      "outputs": [
        {
          "output_type": "execute_result",
          "execution_count": 31,
          "data": {
            "text/html": "<div>\n<style scoped>\n    .dataframe tbody tr th:only-of-type {\n        vertical-align: middle;\n    }\n\n    .dataframe tbody tr th {\n        vertical-align: top;\n    }\n\n    .dataframe thead th {\n        text-align: right;\n    }\n</style>\n<table border=\"1\" class=\"dataframe\">\n  <thead>\n    <tr style=\"text-align: right;\">\n      <th></th>\n      <th>Item_Weight</th>\n      <th>Item_MRP</th>\n    </tr>\n  </thead>\n  <tbody>\n    <tr>\n      <th>Item_Weight</th>\n      <td>1.000000</td>\n      <td>0.027141</td>\n    </tr>\n    <tr>\n      <th>Item_MRP</th>\n      <td>0.027141</td>\n      <td>1.000000</td>\n    </tr>\n  </tbody>\n</table>\n</div>",
            "text/plain": "             Item_Weight  Item_MRP\nItem_Weight     1.000000  0.027141\nItem_MRP        0.027141  1.000000"
          },
          "metadata": {}
        }
      ]
    },
    {
      "metadata": {
        "trusted": true,
        "id": "Y9l8u7vXTCqU",
        "outputId": "ce8561c7-d9fc-4121-b518-ad813f5453a7"
      },
      "cell_type": "code",
      "source": [
        "#Correlation between Item_Weight and Item_Outlet_Sales\n",
        "\n",
        "data[['Item_Weight','Item_Outlet_Sales']].corr()"
      ],
      "execution_count": null,
      "outputs": [
        {
          "output_type": "execute_result",
          "execution_count": 32,
          "data": {
            "text/html": "<div>\n<style scoped>\n    .dataframe tbody tr th:only-of-type {\n        vertical-align: middle;\n    }\n\n    .dataframe tbody tr th {\n        vertical-align: top;\n    }\n\n    .dataframe thead th {\n        text-align: right;\n    }\n</style>\n<table border=\"1\" class=\"dataframe\">\n  <thead>\n    <tr style=\"text-align: right;\">\n      <th></th>\n      <th>Item_Weight</th>\n      <th>Item_Outlet_Sales</th>\n    </tr>\n  </thead>\n  <tbody>\n    <tr>\n      <th>Item_Weight</th>\n      <td>1.000000</td>\n      <td>0.014123</td>\n    </tr>\n    <tr>\n      <th>Item_Outlet_Sales</th>\n      <td>0.014123</td>\n      <td>1.000000</td>\n    </tr>\n  </tbody>\n</table>\n</div>",
            "text/plain": "                   Item_Weight  Item_Outlet_Sales\nItem_Weight           1.000000           0.014123\nItem_Outlet_Sales     0.014123           1.000000"
          },
          "metadata": {}
        }
      ]
    },
    {
      "metadata": {
        "trusted": true,
        "id": "_jNkrzFGTCqV",
        "outputId": "fa233e45-9bf4-442c-d82d-a817f8805149"
      },
      "cell_type": "code",
      "source": [
        "#Correlation between Item_MRP and Item_Outlet_Sales\n",
        "\n",
        "data[['Item_MRP','Item_Outlet_Sales']].corr()"
      ],
      "execution_count": null,
      "outputs": [
        {
          "output_type": "execute_result",
          "execution_count": 33,
          "data": {
            "text/html": "<div>\n<style scoped>\n    .dataframe tbody tr th:only-of-type {\n        vertical-align: middle;\n    }\n\n    .dataframe tbody tr th {\n        vertical-align: top;\n    }\n\n    .dataframe thead th {\n        text-align: right;\n    }\n</style>\n<table border=\"1\" class=\"dataframe\">\n  <thead>\n    <tr style=\"text-align: right;\">\n      <th></th>\n      <th>Item_MRP</th>\n      <th>Item_Outlet_Sales</th>\n    </tr>\n  </thead>\n  <tbody>\n    <tr>\n      <th>Item_MRP</th>\n      <td>1.000000</td>\n      <td>0.567574</td>\n    </tr>\n    <tr>\n      <th>Item_Outlet_Sales</th>\n      <td>0.567574</td>\n      <td>1.000000</td>\n    </tr>\n  </tbody>\n</table>\n</div>",
            "text/plain": "                   Item_MRP  Item_Outlet_Sales\nItem_MRP           1.000000           0.567574\nItem_Outlet_Sales  0.567574           1.000000"
          },
          "metadata": {}
        }
      ]
    },
    {
      "metadata": {
        "trusted": true,
        "id": "RLe8LcQ-TCqV"
      },
      "cell_type": "code",
      "source": [
        "# Importing plotting libraries\n",
        "import matplotlib.pyplot as plt\n",
        "%matplotlib inline\n",
        "import seaborn as sns"
      ],
      "execution_count": null,
      "outputs": []
    },
    {
      "metadata": {
        "trusted": true,
        "id": "MBfMYua6TCqW",
        "outputId": "e187785a-468e-48a8-8e9f-d3a01459e971"
      },
      "cell_type": "code",
      "source": [
        "data.corr()"
      ],
      "execution_count": null,
      "outputs": [
        {
          "output_type": "execute_result",
          "execution_count": 35,
          "data": {
            "text/html": "<div>\n<style scoped>\n    .dataframe tbody tr th:only-of-type {\n        vertical-align: middle;\n    }\n\n    .dataframe tbody tr th {\n        vertical-align: top;\n    }\n\n    .dataframe thead th {\n        text-align: right;\n    }\n</style>\n<table border=\"1\" class=\"dataframe\">\n  <thead>\n    <tr style=\"text-align: right;\">\n      <th></th>\n      <th>Item_Weight</th>\n      <th>Item_MRP</th>\n      <th>Item_Outlet_Sales</th>\n    </tr>\n  </thead>\n  <tbody>\n    <tr>\n      <th>Item_Weight</th>\n      <td>1.000000</td>\n      <td>0.027141</td>\n      <td>0.014123</td>\n    </tr>\n    <tr>\n      <th>Item_MRP</th>\n      <td>0.027141</td>\n      <td>1.000000</td>\n      <td>0.567574</td>\n    </tr>\n    <tr>\n      <th>Item_Outlet_Sales</th>\n      <td>0.014123</td>\n      <td>0.567574</td>\n      <td>1.000000</td>\n    </tr>\n  </tbody>\n</table>\n</div>",
            "text/plain": "                   Item_Weight  Item_MRP  Item_Outlet_Sales\nItem_Weight           1.000000  0.027141           0.014123\nItem_MRP              0.027141  1.000000           0.567574\nItem_Outlet_Sales     0.014123  0.567574           1.000000"
          },
          "metadata": {}
        }
      ]
    },
    {
      "metadata": {
        "trusted": true,
        "id": "pq4Hi_3HTCqW",
        "outputId": "e1ac44f1-d90f-4023-ec5c-d856d8c79559"
      },
      "cell_type": "code",
      "source": [
        "#Plotting correlation between different features\n",
        "cor = data.corr()\n",
        "plt.figure(figsize=(16,10))\n",
        "sns.heatmap(cor)"
      ],
      "execution_count": null,
      "outputs": [
        {
          "output_type": "execute_result",
          "execution_count": 36,
          "data": {
            "text/plain": "<matplotlib.axes._subplots.AxesSubplot at 0x7ff7a03f3550>"
          },
          "metadata": {}
        },
        {
          "output_type": "display_data",
          "data": {
            "image/png": "[encoded data removed]",
            "text/plain": "<Figure size 1152x720 with 2 Axes>"
          },
          "metadata": {
            "needs_background": "light"
          }
        }
      ]
    },
    {
      "metadata": {
        "id": "wXxpdA62TCqX"
      },
      "cell_type": "markdown",
      "source": [
        "We can see that there is a good correlation between Item_MRP and Item_Outlet_Sales"
      ]
    }
  ],
  "metadata": {
    "kernelspec": {
      "name": "python36",
      "display_name": "Python 3.6",
      "language": "python"
    },
    "language_info": {
      "mimetype": "text/x-python",
      "nbconvert_exporter": "python",
      "name": "python",
      "pygments_lexer": "ipython3",
      "version": "3.6.6",
      "file_extension": ".py",
      "codemirror_mode": {
        "version": 3,
        "name": "ipython"
      }
    },
    "colab": {
      "provenance": []
    }
  },
  "nbformat": 4,
  "nbformat_minor": 0
}